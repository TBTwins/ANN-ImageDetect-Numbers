{
 "cells": [
  {
   "cell_type": "markdown",
   "id": "5fa4a95b",
   "metadata": {},
   "source": [
    "#### Name: Salem Edah Ben Eshaq\n",
    "#### ID: 2237189"
   ]
  },
  {
   "cell_type": "markdown",
   "id": "b2e3601b",
   "metadata": {},
   "source": [
    "# Import Library"
   ]
  },
  {
   "cell_type": "code",
   "execution_count": 1,
   "id": "4920fd58",
   "metadata": {},
   "outputs": [],
   "source": [
    "import numpy as np\n",
    "import os\n",
    "from PIL import Image"
   ]
  },
  {
   "cell_type": "markdown",
   "id": "3e1fd458",
   "metadata": {},
   "source": [
    "# Set My Own Seed"
   ]
  },
  {
   "cell_type": "code",
   "execution_count": 2,
   "id": "07b1dd45",
   "metadata": {},
   "outputs": [],
   "source": [
    "# Set random seed for reproducible results\n",
    "np.random.seed(54)"
   ]
  },
  {
   "cell_type": "markdown",
   "id": "d3fd0213",
   "metadata": {},
   "source": [
    "# Creating ANN Class with Needed Methods"
   ]
  },
  {
   "cell_type": "code",
   "execution_count": 3,
   "id": "e548809a",
   "metadata": {},
   "outputs": [],
   "source": [
    "class ANN:\n",
    "    def __init__(self, input_size):\n",
    "        # First hidden layer\n",
    "        self.w1 = 0.02 * np.random.randn(input_size, 32)\n",
    "        self.b1 = np.zeros((1, 32))\n",
    "        # Second hidden layer\n",
    "        self.w2 = 0.02 * np.random.randn(32, 16)\n",
    "        self.b2 = np.zeros((1, 16))\n",
    "        # Output layer\n",
    "        self.w3 = 0.02 * np.random.randn(16, 10)\n",
    "        self.b3 = np.zeros((1, 10))\n",
    "    \n",
    "    def forward(self, X):\n",
    "        # First hidden layer\n",
    "        z1 = np.dot(X, self.w1) + self.b1\n",
    "        a1 = np.maximum(0, z1)  # ReLU\n",
    "        # Second hidden layer\n",
    "        z2 = np.dot(a1, self.w2) + self.b2\n",
    "        a2 = np.maximum(0, z2)  # ReLU\n",
    "        # Output layer\n",
    "        z3 = np.dot(a2, self.w3) + self.b3\n",
    "        exp_z = np.exp(z3 - np.max(z3, axis=1, keepdims=True))\n",
    "        return exp_z / np.sum(exp_z, axis=1, keepdims=True)  # Softmax\n",
    "    \n",
    "    def loss(self, pred, y):\n",
    "        return -np.mean(np.log(np.clip(pred[range(len(pred)), y], 1e-7, 1)))\n",
    "    \n",
    "    def save(self, name):\n",
    "        np.savez(name, w1=self.w1, b1=self.b1, w2=self.w2, b2=self.b2, w3=self.w3, b3=self.b3)\n",
    "    \n",
    "    def load(self, name):\n",
    "        data = np.load(name)\n",
    "        self.w1, self.b1 = data['w1'], data['b1']\n",
    "        self.w2, self.b2 = data['w2'], data['b2']\n",
    "        self.w3, self.b3 = data['w3'], data['b3']"
   ]
  },
  {
   "cell_type": "markdown",
   "id": "4ad5fadd",
   "metadata": {},
   "source": [
    "# Creating Data Preprocessing Class"
   ]
  },
  {
   "cell_type": "code",
   "execution_count": 4,
   "id": "9c830824",
   "metadata": {},
   "outputs": [],
   "source": [
    "def load_data(path):\n",
    "    X, y = [], []\n",
    "    for digit in range(10):\n",
    "        folder = os.path.join(path, str(digit))\n",
    "        if os.path.exists(folder):\n",
    "            for file in os.listdir(folder):\n",
    "                if file.endswith(('.png')):\n",
    "                    img = Image.open(os.path.join(folder, file))\n",
    "                    arr = np.array(img, dtype=np.float64)\n",
    "                    flat_arr = arr.flatten()\n",
    "                    if flat_arr.max() > 1: flat_arr /= 255.0\n",
    "                    X.append(flat_arr)\n",
    "                    y.append(digit)\n",
    "    return np.array(X), np.array(y)"
   ]
  },
  {
   "cell_type": "markdown",
   "id": "a0abaae2",
   "metadata": {},
   "source": [
    "# **Data Preprocessing**"
   ]
  },
  {
   "cell_type": "code",
   "execution_count": 5,
   "id": "be552424",
   "metadata": {},
   "outputs": [
    {
     "name": "stdout",
     "output_type": "stream",
     "text": [
      "Loaded 1980 images\n",
      "Image shape: (784,)\n",
      "Classes: [0 1 2 3 4 5 6 7 8 9]\n"
     ]
    }
   ],
   "source": [
    "# Load data\n",
    "X, y = load_data(\"Ai2_Dataset/Salem\")\n",
    "print(f\"Loaded {len(X)} images\")\n",
    "print(f\"Image shape: {X[0].shape}\")\n",
    "print(f\"Classes: {np.unique(y)}\")"
   ]
  },
  {
   "cell_type": "markdown",
   "id": "96f6351b",
   "metadata": {},
   "source": [
    "# **Creating Model**"
   ]
  },
  {
   "cell_type": "code",
   "execution_count": 6,
   "id": "fc6b54d8",
   "metadata": {},
   "outputs": [
    {
     "name": "stdout",
     "output_type": "stream",
     "text": [
      "Model created with input size: 784\n",
      "Architecture: 784 -> 32 -> 16 -> 10\n"
     ]
    }
   ],
   "source": [
    "#Create model\n",
    "model = ANN(X.shape[1])\n",
    "print(f\"Model created with input size: {X.shape[1]}\")\n",
    "print(f\"Architecture: {X.shape[1]} -> 32 -> 16 -> 10\")"
   ]
  },
  {
   "cell_type": "markdown",
   "id": "c8df796d",
   "metadata": {},
   "source": [
    "# **Model Training**"
   ]
  },
  {
   "cell_type": "code",
   "execution_count": 7,
   "id": "55486c55",
   "metadata": {},
   "outputs": [
    {
     "ename": "IndentationError",
     "evalue": "expected an indented block after 'if' statement on line 19 (218819218.py, line 20)",
     "output_type": "error",
     "traceback": [
      "  \u001b[36mCell\u001b[39m\u001b[36m \u001b[39m\u001b[32mIn[7]\u001b[39m\u001b[32m, line 20\u001b[39m\n\u001b[31m    \u001b[39m\u001b[31macc = np.mean(np.argmax(pred, axis=1) == y)\u001b[39m\n    ^\n\u001b[31mIndentationError\u001b[39m\u001b[31m:\u001b[39m expected an indented block after 'if' statement on line 19\n"
     ]
    }
   ],
   "source": [
    "# Train\n",
    "print(\"Starting training...\")\n",
    "best_loss = 999\n",
    "for i in range(5000):\n",
    "    # Random weight updates for all layers\n",
    "    model.w1 += 0.02 * np.random.randn(*model.w1.shape)\n",
    "    model.b1 += 0.02 * np.random.randn(*model.b1.shape)\n",
    "    model.w2 += 0.02 * np.random.randn(*model.w2.shape)\n",
    "    model.b2 += 0.02 * np.random.randn(*model.b2.shape)\n",
    "    model.w3 += 0.02 * np.random.randn(*model.w3.shape)\n",
    "    model.b3 += 0.02 * np.random.randn(*model.b3.shape)\n",
    "    \n",
    "    pred = model.forward(X)\n",
    "    loss = model.loss(pred, y)\n",
    "    \n",
    "    if loss < best_loss:\n",
    "        best_loss = loss\n",
    "        model.save(\"Salem2237189Model.npz\")\n",
    "        if i % 10 == 0:\n",
    "        acc = np.mean(np.argmax(pred, axis=1) == y)\n",
    "        print(f\"Step {i}: Loss={loss:.3f}, Acc={acc:.3f}\")\n",
    "    else:\n",
    "        model.load(\"Salem2237189Model.npz\")\n",
    "\n",
    "print(\"Training completed!\")"
   ]
  },
  {
   "cell_type": "markdown",
   "id": "ac193741",
   "metadata": {},
   "source": [
    "# **Loading Result Model**"
   ]
  },
  {
   "cell_type": "code",
   "execution_count": null,
   "id": "1c10f5d4",
   "metadata": {},
   "outputs": [],
   "source": [
    "model.load(\"Salem2237189Model.npz\")"
   ]
  },
  {
   "cell_type": "markdown",
   "id": "18ccb841",
   "metadata": {},
   "source": [
    "# **Test on shared test set**"
   ]
  },
  {
   "cell_type": "code",
   "execution_count": null,
   "id": "b3239585",
   "metadata": {},
   "outputs": [
    {
     "name": "stdout",
     "output_type": "stream",
     "text": [
      "Loading shared test set...\n",
      "Shared Test Accuracy: 0.610\n"
     ]
    }
   ],
   "source": [
    "test_path = \"Ai2_Dataset/SharedTesting\"\n",
    "if os.path.exists(test_path):\n",
    "    print(\"Loading shared test set...\")\n",
    "    test_X, test_y = load_data(test_path)\n",
    "    test_pred = model.forward(test_X)\n",
    "    test_acc = np.mean(np.argmax(test_pred, axis=1) == test_y)\n",
    "    print(f\"Shared Test Accuracy: {test_acc:.3f}\")"
   ]
  },
  {
   "cell_type": "markdown",
   "id": "bfccc61d",
   "metadata": {},
   "source": [
    "# **Print every prediction**"
   ]
  },
  {
   "cell_type": "code",
   "execution_count": null,
   "id": "e8cba0e2",
   "metadata": {},
   "outputs": [
    {
     "name": "stdout",
     "output_type": "stream",
     "text": [
      "Sample 0: Predicted=1, Actual=0\n",
      "Sample 1: Predicted=0, Actual=0\n",
      "Sample 2: Predicted=9, Actual=0\n",
      "Sample 3: Predicted=0, Actual=0\n",
      "Sample 4: Predicted=9, Actual=0\n",
      "Sample 5: Predicted=1, Actual=0\n",
      "Sample 6: Predicted=2, Actual=0\n",
      "Sample 7: Predicted=0, Actual=0\n",
      "Sample 8: Predicted=0, Actual=0\n",
      "Sample 9: Predicted=0, Actual=0\n",
      "Sample 10: Predicted=1, Actual=1\n",
      "Sample 11: Predicted=1, Actual=1\n",
      "Sample 12: Predicted=1, Actual=1\n",
      "Sample 13: Predicted=1, Actual=1\n",
      "Sample 14: Predicted=1, Actual=1\n",
      "Sample 15: Predicted=1, Actual=1\n",
      "Sample 16: Predicted=1, Actual=1\n",
      "Sample 17: Predicted=1, Actual=1\n",
      "Sample 18: Predicted=1, Actual=1\n",
      "Sample 19: Predicted=1, Actual=1\n",
      "Sample 20: Predicted=2, Actual=2\n",
      "Sample 21: Predicted=2, Actual=2\n",
      "Sample 22: Predicted=6, Actual=2\n",
      "Sample 23: Predicted=2, Actual=2\n",
      "Sample 24: Predicted=2, Actual=2\n",
      "Sample 25: Predicted=9, Actual=2\n",
      "Sample 26: Predicted=2, Actual=2\n",
      "Sample 27: Predicted=2, Actual=2\n",
      "Sample 28: Predicted=6, Actual=2\n",
      "Sample 29: Predicted=2, Actual=2\n",
      "Sample 30: Predicted=3, Actual=3\n",
      "Sample 31: Predicted=2, Actual=3\n",
      "Sample 32: Predicted=3, Actual=3\n",
      "Sample 33: Predicted=0, Actual=3\n",
      "Sample 34: Predicted=3, Actual=3\n",
      "Sample 35: Predicted=3, Actual=3\n",
      "Sample 36: Predicted=3, Actual=3\n",
      "Sample 37: Predicted=7, Actual=3\n",
      "Sample 38: Predicted=3, Actual=3\n",
      "Sample 39: Predicted=3, Actual=3\n",
      "Sample 40: Predicted=2, Actual=4\n",
      "Sample 41: Predicted=6, Actual=4\n",
      "Sample 42: Predicted=6, Actual=4\n",
      "Sample 43: Predicted=1, Actual=4\n",
      "Sample 44: Predicted=6, Actual=4\n",
      "Sample 45: Predicted=3, Actual=4\n",
      "Sample 46: Predicted=4, Actual=4\n",
      "Sample 47: Predicted=4, Actual=4\n",
      "Sample 48: Predicted=2, Actual=4\n",
      "Sample 49: Predicted=7, Actual=4\n",
      "Sample 50: Predicted=5, Actual=5\n",
      "Sample 51: Predicted=5, Actual=5\n",
      "Sample 52: Predicted=5, Actual=5\n",
      "Sample 53: Predicted=6, Actual=5\n",
      "Sample 54: Predicted=5, Actual=5\n",
      "Sample 55: Predicted=5, Actual=5\n",
      "Sample 56: Predicted=5, Actual=5\n",
      "Sample 57: Predicted=5, Actual=5\n",
      "Sample 58: Predicted=5, Actual=5\n",
      "Sample 59: Predicted=5, Actual=5\n",
      "Sample 60: Predicted=6, Actual=6\n",
      "Sample 61: Predicted=6, Actual=6\n",
      "Sample 62: Predicted=9, Actual=6\n",
      "Sample 63: Predicted=6, Actual=6\n",
      "Sample 64: Predicted=6, Actual=6\n",
      "Sample 65: Predicted=6, Actual=6\n",
      "Sample 66: Predicted=6, Actual=6\n",
      "Sample 67: Predicted=4, Actual=6\n",
      "Sample 68: Predicted=9, Actual=6\n",
      "Sample 69: Predicted=6, Actual=6\n",
      "Sample 70: Predicted=7, Actual=7\n",
      "Sample 71: Predicted=7, Actual=7\n",
      "Sample 72: Predicted=7, Actual=7\n",
      "Sample 73: Predicted=5, Actual=7\n",
      "Sample 74: Predicted=7, Actual=7\n",
      "Sample 75: Predicted=7, Actual=7\n",
      "Sample 76: Predicted=7, Actual=7\n",
      "Sample 77: Predicted=7, Actual=7\n",
      "Sample 78: Predicted=7, Actual=7\n",
      "Sample 79: Predicted=7, Actual=7\n",
      "Sample 80: Predicted=8, Actual=8\n",
      "Sample 81: Predicted=9, Actual=8\n",
      "Sample 82: Predicted=9, Actual=8\n",
      "Sample 83: Predicted=9, Actual=8\n",
      "Sample 84: Predicted=6, Actual=8\n",
      "Sample 85: Predicted=0, Actual=8\n",
      "Sample 86: Predicted=0, Actual=8\n",
      "Sample 87: Predicted=8, Actual=8\n",
      "Sample 88: Predicted=9, Actual=8\n",
      "Sample 89: Predicted=9, Actual=8\n",
      "Sample 90: Predicted=6, Actual=9\n",
      "Sample 91: Predicted=9, Actual=9\n",
      "Sample 92: Predicted=6, Actual=9\n",
      "Sample 93: Predicted=9, Actual=9\n",
      "Sample 94: Predicted=6, Actual=9\n",
      "Sample 95: Predicted=9, Actual=9\n",
      "Sample 96: Predicted=4, Actual=9\n",
      "Sample 97: Predicted=6, Actual=9\n",
      "Sample 98: Predicted=6, Actual=9\n",
      "Sample 99: Predicted=6, Actual=9\n",
      "Done\n"
     ]
    }
   ],
   "source": [
    "for i, pred in enumerate(test_pred):\n",
    "    predicted_class = np.argmax(pred)\n",
    "    actual_class = test_y[i]\n",
    "    print(f\"Sample {i}: Predicted={predicted_class}, Actual={actual_class}\")\n",
    "else:\n",
    "    print(\"Done\")"
   ]
  }
 ],
 "metadata": {
  "kernelspec": {
   "display_name": "Python 3",
   "language": "python",
   "name": "python3"
  },
  "language_info": {
   "codemirror_mode": {
    "name": "ipython",
    "version": 3
   },
   "file_extension": ".py",
   "mimetype": "text/x-python",
   "name": "python",
   "nbconvert_exporter": "python",
   "pygments_lexer": "ipython3",
   "version": "3.13.4"
  }
 },
 "nbformat": 4,
 "nbformat_minor": 5
}
